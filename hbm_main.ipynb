{
 "cells": [
  {
   "cell_type": "code",
   "execution_count": 74,
   "metadata": {},
   "outputs": [],
   "source": [
    "import numpy as np\n",
    "import theano.tensor as tt\n",
    "from theano import shared\n",
    "import pandas as pd\n",
    "import seaborn as sns\n",
    "from sklearn.model_selection import train_test_split\n",
    "from sklearn.metrics import mean_squared_error\n",
    "from sklearn.metrics import mean_absolute_percentage_error\n",
    "import pymc3 as pm\n",
    "import arviz as az\n",
    "import matplotlib as mpl\n",
    "import matplotlib.pyplot as plt\n",
    "from sklearn.linear_model import Ridge\n",
    "\n",
    "RANDOM_SEED = 2023\n",
    "plt.rcParams[\"font.family\"] = \"Times New Roman\"\n",
    "plt.style.use('seaborn-ticks')"
   ]
  },
  {
   "cell_type": "code",
   "execution_count": 75,
   "metadata": {},
   "outputs": [],
   "source": [
    "def hbm_vary_intercepts_slopes_model(train_index, test_index, selected_df, selected_names, individual_names):\n",
    "\n",
    "    group_num = len(selected_df.group.unique())\n",
    "\n",
    "    x_train, x_test = selected_df.loc[train_index, :], selected_df.loc[test_index, :]\n",
    "    y_train, y_test = selected_df.loc[train_index,'y_real'], selected_df.loc[test_index,'y_real']\n",
    "\n",
    "    group_level_variables = np.zeros((group_num,1))\n",
    "    for group_idx in range(group_num):\n",
    "        group_level_variables[group_idx,0] = x_train.loc[x_train.group == group_idx, 'g'].mean()\n",
    "    \n",
    "    g_transformer = StandardScaler()\n",
    "    group_level_variables = g_transformer.fit_transform(group_level_variables)\n",
    "\n",
    "    # Standard Scaler\n",
    "    transformer = StandardScaler()\n",
    "    processed_x_train = transformer.fit_transform(x_train.loc[:,individual_names])\n",
    "    processed_x_test = transformer.transform(x_test.loc[:,individual_names])\n",
    "\n",
    "    with pm.Model() as hierarchical_model:\n",
    "        data = pm.Data('data', processed_x_train)\n",
    "        group_data = pm.Data('group_data', group_level_variables)\n",
    "\n",
    "        raw_group_ind = x_train.loc[:,'group'].values\n",
    "        raw_group_ind = raw_group_ind.astype(int)\n",
    "        group_ind = pm.Data('group_ind',np.asarray(raw_group_ind))\n",
    "\n",
    "        g_intercept = pm.Normal('g_intercept', mu = 3.2, sigma=10) # hyperprior intercept\n",
    "        g = pm.Normal('g', mu = 0, sigma = 10) \n",
    "        offset_intercept = pm.Normal('offset_intercept', mu=0, sigma=3.0, shape = group_num)\n",
    "        mu_intercept = g_intercept + g * group_data[:,0] \n",
    "        sigma_intercept = pm.Exponential('sigma_intercept', 1.0)\n",
    "        intercept = pm.Deterministic('intercept', mu_intercept + offset_intercept * sigma_intercept)\n",
    "        \n",
    "        g_slope0 = pm.Normal('g_slope0', mu = 0, sigma = 10) # hyperprior slope0\n",
    "        g_slope0_intercept = pm.Normal('g_slope0_intercept', mu = 0, sigma=10)\n",
    "        sigma_a_slope0 = pm.Exponential('sigma_a_slope0', 1.0)\n",
    "        mu_slope0 = g_slope0_intercept + g_slope0 * group_data[:,0] \n",
    "        offset_0 = pm.Normal('offset_0', mu= 0, sigma= 3.0, shape = group_num)\n",
    "        slope_0 = pm.Deterministic('slope_0', mu_slope0 + offset_0 * sigma_a_slope0)\n",
    "\n",
    "        g_slope1 = pm.Normal('g_slope1', mu = 0, sigma = 10) # hyperprior slope1\n",
    "        g_slope1_intercept = pm.Normal('g_slope1_intercept', mu = 0, sigma=10)\n",
    "        sigma_a_slope1 = pm.Exponential('sigma_a_slope1', 1.0)\n",
    "        mu_slope1 = g_slope1_intercept + g_slope1 * group_data[:,0] \n",
    "        offset_1 = pm.Normal('offset_1', mu= 0, sigma= 3.0, shape = group_num)\n",
    "        slope_1 = pm.Deterministic('slope_1', mu_slope1 + offset_1 * sigma_a_slope1)\n",
    "\n",
    "        g_slope2 = pm.Normal('g_slope2', mu = 0, sigma = 10) # hyperprior slope2\n",
    "        g_slope2_intercept = pm.Normal('g_slope2_intercept', mu = 0, sigma=10)\n",
    "        sigma_a_slope2 = pm.Exponential('sigma_a_slope2', 1)\n",
    "        mu_slope2 = g_slope2_intercept + g_slope2 * group_data[:,0] \n",
    "        offset_2 = pm.Normal('offset_2', mu= 0, sigma= 3.0, shape = group_num)\n",
    "        slope_2 = pm.Deterministic('slope_2', mu_slope2 + offset_2 * sigma_a_slope2)\n",
    "\n",
    "        noise = pm.Exponential('noise', 1.0)\n",
    "        y_est = intercept[group_ind] + slope_0[group_ind] * data[:,0] + slope_1[group_ind] * data[:,1] + slope_2[group_ind] * data[:,2]\n",
    "        \n",
    "        likelihood = pm.Normal('y_like', mu=y_est, sigma=noise, observed=y_train.values)\n",
    "        hierarchical_trace = pm.sample(2000,tune=2000,target_accept=0.99,return_inferencedata=False)\n",
    "\n",
    "    curr_waic = az.waic(hierarchical_trace, hierarchical_model, scale='deviance')\n",
    "\n",
    "    with hierarchical_model:\n",
    "        all_test = processed_x_test\n",
    "        all_labels = y_test.values\n",
    "\n",
    "        raw_group_ind = x_test.loc[:,'group'].values\n",
    "        raw_group_ind = raw_group_ind.astype(int)\n",
    "\n",
    "        pm.set_data({'data': all_test}, model=hierarchical_model)\n",
    "        pm.set_data({'group_ind': np.asarray(raw_group_ind)}, model=hierarchical_model)\n",
    "\n",
    "        all_posterior_samples = pm.sample_posterior_predictive(hierarchical_trace)\n",
    "        all_pred = all_posterior_samples[\"y_like\"].mean(axis=0)\n",
    "\n",
    "        # tol_mpe_hierarchical = mean_absolute_percentage_error(y_true = all_labels, \n",
    "        #                                     y_pred = all_pred)\n",
    "        # tol_rmse_hierarchical = mean_squared_error(y_true= all_labels, \n",
    "        #                                     y_pred = all_pred, squared=False)\n",
    "\n",
    "        tol_mpe_hierarchical = mean_absolute_percentage_error(y_true=np.exp(all_labels), \n",
    "                                            y_pred =np.exp(all_pred))\n",
    "        tol_rmse_hierarchical = mean_squared_error(y_true=np.exp(all_labels), \n",
    "                                            y_pred =np.exp(all_pred), squared=False)\n",
    "                                            \n",
    "    return [tol_rmse_hierarchical, tol_mpe_hierarchical, curr_waic, all_pred, hierarchical_trace]"
   ]
  },
  {
   "cell_type": "code",
   "execution_count": 77,
   "metadata": {},
   "outputs": [],
   "source": [
    "raw_df = pd.read_csv('combine_feat_g8_origin_table.csv')\n",
    "\n",
    "data_df = pd.DataFrame()\n",
    "data_df['x1'] = np.log(-raw_df.min_cyc.values)\n",
    "data_df['x2'] = np.log(raw_df.var_cyc.values)\n",
    "data_df['x3'] = np.log(raw_df.skew_cyc.values+1)\n",
    "data_df['x4'] = np.log(raw_df.kurt_cyc.values)\n",
    "data_df['x5'] =raw_df.initial_Q.values\n",
    "data_df['x6'] =raw_df.max_Q.values - raw_df.initial_Q.values\n",
    "data_df['g'] = raw_df.g\n",
    "data_df['group'] = raw_df.group\n",
    "# data_df['y_real'] = np.log(raw_df.EoL_cycle)\n",
    "data_df['y_real'] = np.log(raw_df.EoL_time)\n"
   ]
  },
  {
   "cell_type": "code",
   "execution_count": 79,
   "metadata": {},
   "outputs": [
    {
     "data": {
      "text/plain": [
       "3.722380084500311"
      ]
     },
     "metadata": {},
     "output_type": "display_data"
    },
    {
     "data": {
      "text/plain": [
       "0.10014815452499237"
      ]
     },
     "metadata": {},
     "output_type": "display_data"
    }
   ],
   "source": [
    "from sklearn.model_selection import RepeatedKFold\n",
    "from sklearn.preprocessing import StandardScaler\n",
    "from sklearn.model_selection import RepeatedStratifiedKFold\n",
    "from sklearn.model_selection import StratifiedShuffleSplit\n",
    "rmse_ridge_list = list()\n",
    "mpe_ridge_list = list()\n",
    "iter_times = 4\n",
    "sss = RepeatedStratifiedKFold(n_splits=5, n_repeats=iter_times, random_state=RANDOM_SEED)\n",
    "# sss = StratifiedShuffleSplit(n_splits=iter_times, test_size=0.2, random_state=RANDOM_SEED)\n",
    "\n",
    "# kf.get_n_splits()\n",
    "sss.get_n_splits()\n",
    "for train_index, test_index in sss.split(data_df, data_df.group.values):\n",
    "    ridge_model = Ridge(alpha=1)\n",
    "    train_x = data_df.loc[train_index,['x1','x2','x3','x4','x5','x6']].values\n",
    "    train_y = data_df.loc[train_index,'y_real'].values.reshape(-1,1)\n",
    "\n",
    "    stand = StandardScaler()\n",
    "    train_x_stand = stand.fit_transform(train_x)\n",
    "\n",
    "    test_x = data_df.loc[test_index,['x1','x2','x3','x4','x5','x6']].values\n",
    "    test_y = data_df.loc[test_index,'y_real'].values.reshape(-1,1)\n",
    "    test_x_stand = stand.transform(test_x)\n",
    "\n",
    "    ridge_model.fit(train_x_stand,train_y)\n",
    "    ypred = ridge_model.predict(test_x_stand)\n",
    "    curr_rmse = mean_squared_error(y_true=np.exp(test_y), y_pred =np.exp(ypred), squared=False)\n",
    "    curr_mpe = mean_absolute_percentage_error(y_true=np.exp(test_y), y_pred =np.exp(ypred))\n",
    "\n",
    "    rmse_ridge_list.append(curr_rmse)\n",
    "    mpe_ridge_list.append(curr_mpe)\n",
    "rmse_ridge_list = np.asarray(rmse_ridge_list)\n",
    "mpe_ridge_list = np.asarray(mpe_ridge_list)\n",
    "\n",
    "display(np.mean(rmse_ridge_list))\n",
    "display(np.mean(mpe_ridge_list))"
   ]
  },
  {
   "cell_type": "code",
   "execution_count": 67,
   "metadata": {},
   "outputs": [
    {
     "name": "stderr",
     "output_type": "stream",
     "text": [
      "Auto-assigning NUTS sampler...\n",
      "Initializing NUTS using jitter+adapt_diag...\n",
      "Initializing NUTS using jitter+adapt_diag...\n",
      "Multiprocess sampling (4 chains in 4 jobs)\n",
      "NUTS: [noise, offset_2, sigma_a_slope2, g_slope2_intercept, g_slope2, offset_1, sigma_a_slope1, g_slope1_intercept, g_slope1, offset_0, sigma_a_slope0, g_slope0_intercept, g_slope0, sigma_intercept, offset_intercept, g, g_intercept]\n"
     ]
    },
    {
     "name": "stderr",
     "output_type": "stream",
     "text": [
      "Sampling 4 chains for 2_000 tune and 2_000 draw iterations (8_000 + 8_000 draws total) took 130 seconds.\n",
      "Got error No model on context stack. trying to find log_likelihood in translation.\n",
      "c:\\Users\\sann7383\\Anaconda3\\envs\\pymc_env\\lib\\site-packages\\arviz\\data\\io_pymc3_3x.py:98: FutureWarning: Using `from_pymc3` without the model will be deprecated in a future release. Not using the model will return less accurate and less useful results. Make sure you use the model argument or call from_pymc3 within a model context.\n",
      "  warnings.warn(\n"
     ]
    },
    {
     "name": "stdout",
     "output_type": "stream",
     "text": [
      "finished  0\n"
     ]
    },
    {
     "name": "stderr",
     "output_type": "stream",
     "text": [
      "Auto-assigning NUTS sampler...\n",
      "Initializing NUTS using jitter+adapt_diag...\n",
      "Initializing NUTS using jitter+adapt_diag...\n",
      "Multiprocess sampling (4 chains in 4 jobs)\n",
      "NUTS: [noise, offset_2, sigma_a_slope2, g_slope2_intercept, g_slope2, offset_1, sigma_a_slope1, g_slope1_intercept, g_slope1, offset_0, sigma_a_slope0, g_slope0_intercept, g_slope0, sigma_intercept, offset_intercept, g, g_intercept]\n"
     ]
    },
    {
     "name": "stderr",
     "output_type": "stream",
     "text": [
      "Sampling 4 chains for 2_000 tune and 2_000 draw iterations (8_000 + 8_000 draws total) took 167 seconds.\n",
      "The number of effective samples is smaller than 25% for some parameters.\n",
      "Got error No model on context stack. trying to find log_likelihood in translation.\n",
      "c:\\Users\\sann7383\\Anaconda3\\envs\\pymc_env\\lib\\site-packages\\arviz\\data\\io_pymc3_3x.py:98: FutureWarning: Using `from_pymc3` without the model will be deprecated in a future release. Not using the model will return less accurate and less useful results. Make sure you use the model argument or call from_pymc3 within a model context.\n",
      "  warnings.warn(\n"
     ]
    },
    {
     "name": "stdout",
     "output_type": "stream",
     "text": [
      "finished  1\n"
     ]
    },
    {
     "name": "stderr",
     "output_type": "stream",
     "text": [
      "Auto-assigning NUTS sampler...\n",
      "Initializing NUTS using jitter+adapt_diag...\n",
      "Initializing NUTS using jitter+adapt_diag...\n",
      "Multiprocess sampling (4 chains in 4 jobs)\n",
      "NUTS: [noise, offset_2, sigma_a_slope2, g_slope2_intercept, g_slope2, offset_1, sigma_a_slope1, g_slope1_intercept, g_slope1, offset_0, sigma_a_slope0, g_slope0_intercept, g_slope0, sigma_intercept, offset_intercept, g, g_intercept]\n"
     ]
    },
    {
     "name": "stderr",
     "output_type": "stream",
     "text": [
      "Sampling 4 chains for 2_000 tune and 2_000 draw iterations (8_000 + 8_000 draws total) took 170 seconds.\n",
      "Got error No model on context stack. trying to find log_likelihood in translation.\n",
      "c:\\Users\\sann7383\\Anaconda3\\envs\\pymc_env\\lib\\site-packages\\arviz\\data\\io_pymc3_3x.py:98: FutureWarning: Using `from_pymc3` without the model will be deprecated in a future release. Not using the model will return less accurate and less useful results. Make sure you use the model argument or call from_pymc3 within a model context.\n",
      "  warnings.warn(\n"
     ]
    },
    {
     "name": "stdout",
     "output_type": "stream",
     "text": [
      "finished  2\n"
     ]
    },
    {
     "name": "stderr",
     "output_type": "stream",
     "text": [
      "Auto-assigning NUTS sampler...\n",
      "Initializing NUTS using jitter+adapt_diag...\n",
      "Initializing NUTS using jitter+adapt_diag...\n",
      "Multiprocess sampling (4 chains in 4 jobs)\n",
      "NUTS: [noise, offset_2, sigma_a_slope2, g_slope2_intercept, g_slope2, offset_1, sigma_a_slope1, g_slope1_intercept, g_slope1, offset_0, sigma_a_slope0, g_slope0_intercept, g_slope0, sigma_intercept, offset_intercept, g, g_intercept]\n"
     ]
    },
    {
     "name": "stderr",
     "output_type": "stream",
     "text": [
      "Sampling 4 chains for 2_000 tune and 2_000 draw iterations (8_000 + 8_000 draws total) took 215 seconds.\n",
      "Got error No model on context stack. trying to find log_likelihood in translation.\n",
      "c:\\Users\\sann7383\\Anaconda3\\envs\\pymc_env\\lib\\site-packages\\arviz\\data\\io_pymc3_3x.py:98: FutureWarning: Using `from_pymc3` without the model will be deprecated in a future release. Not using the model will return less accurate and less useful results. Make sure you use the model argument or call from_pymc3 within a model context.\n",
      "  warnings.warn(\n"
     ]
    },
    {
     "name": "stdout",
     "output_type": "stream",
     "text": [
      "finished  3\n"
     ]
    },
    {
     "name": "stderr",
     "output_type": "stream",
     "text": [
      "Auto-assigning NUTS sampler...\n",
      "Initializing NUTS using jitter+adapt_diag...\n",
      "Initializing NUTS using jitter+adapt_diag...\n",
      "Multiprocess sampling (4 chains in 4 jobs)\n",
      "NUTS: [noise, offset_2, sigma_a_slope2, g_slope2_intercept, g_slope2, offset_1, sigma_a_slope1, g_slope1_intercept, g_slope1, offset_0, sigma_a_slope0, g_slope0_intercept, g_slope0, sigma_intercept, offset_intercept, g, g_intercept]\n"
     ]
    },
    {
     "name": "stderr",
     "output_type": "stream",
     "text": [
      "Sampling 4 chains for 2_000 tune and 2_000 draw iterations (8_000 + 8_000 draws total) took 130 seconds.\n",
      "The number of effective samples is smaller than 25% for some parameters.\n",
      "Got error No model on context stack. trying to find log_likelihood in translation.\n",
      "c:\\Users\\sann7383\\Anaconda3\\envs\\pymc_env\\lib\\site-packages\\arviz\\data\\io_pymc3_3x.py:98: FutureWarning: Using `from_pymc3` without the model will be deprecated in a future release. Not using the model will return less accurate and less useful results. Make sure you use the model argument or call from_pymc3 within a model context.\n",
      "  warnings.warn(\n"
     ]
    },
    {
     "name": "stdout",
     "output_type": "stream",
     "text": [
      "finished  4\n"
     ]
    },
    {
     "name": "stderr",
     "output_type": "stream",
     "text": [
      "Auto-assigning NUTS sampler...\n",
      "Initializing NUTS using jitter+adapt_diag...\n",
      "Initializing NUTS using jitter+adapt_diag...\n",
      "Multiprocess sampling (4 chains in 4 jobs)\n",
      "NUTS: [noise, offset_2, sigma_a_slope2, g_slope2_intercept, g_slope2, offset_1, sigma_a_slope1, g_slope1_intercept, g_slope1, offset_0, sigma_a_slope0, g_slope0_intercept, g_slope0, sigma_intercept, offset_intercept, g, g_intercept]\n"
     ]
    },
    {
     "name": "stderr",
     "output_type": "stream",
     "text": [
      "Sampling 4 chains for 2_000 tune and 2_000 draw iterations (8_000 + 8_000 draws total) took 124 seconds.\n",
      "Got error No model on context stack. trying to find log_likelihood in translation.\n",
      "c:\\Users\\sann7383\\Anaconda3\\envs\\pymc_env\\lib\\site-packages\\arviz\\data\\io_pymc3_3x.py:98: FutureWarning: Using `from_pymc3` without the model will be deprecated in a future release. Not using the model will return less accurate and less useful results. Make sure you use the model argument or call from_pymc3 within a model context.\n",
      "  warnings.warn(\n"
     ]
    },
    {
     "name": "stdout",
     "output_type": "stream",
     "text": [
      "finished  5\n"
     ]
    },
    {
     "name": "stderr",
     "output_type": "stream",
     "text": [
      "Auto-assigning NUTS sampler...\n",
      "Initializing NUTS using jitter+adapt_diag...\n",
      "Initializing NUTS using jitter+adapt_diag...\n",
      "Multiprocess sampling (4 chains in 4 jobs)\n",
      "NUTS: [noise, offset_2, sigma_a_slope2, g_slope2_intercept, g_slope2, offset_1, sigma_a_slope1, g_slope1_intercept, g_slope1, offset_0, sigma_a_slope0, g_slope0_intercept, g_slope0, sigma_intercept, offset_intercept, g, g_intercept]\n"
     ]
    },
    {
     "name": "stderr",
     "output_type": "stream",
     "text": [
      "Sampling 4 chains for 2_000 tune and 2_000 draw iterations (8_000 + 8_000 draws total) took 122 seconds.\n",
      "Got error No model on context stack. trying to find log_likelihood in translation.\n",
      "c:\\Users\\sann7383\\Anaconda3\\envs\\pymc_env\\lib\\site-packages\\arviz\\data\\io_pymc3_3x.py:98: FutureWarning: Using `from_pymc3` without the model will be deprecated in a future release. Not using the model will return less accurate and less useful results. Make sure you use the model argument or call from_pymc3 within a model context.\n",
      "  warnings.warn(\n"
     ]
    },
    {
     "name": "stdout",
     "output_type": "stream",
     "text": [
      "finished  6\n"
     ]
    },
    {
     "name": "stderr",
     "output_type": "stream",
     "text": [
      "Auto-assigning NUTS sampler...\n",
      "Initializing NUTS using jitter+adapt_diag...\n",
      "Initializing NUTS using jitter+adapt_diag...\n",
      "Multiprocess sampling (4 chains in 4 jobs)\n",
      "NUTS: [noise, offset_2, sigma_a_slope2, g_slope2_intercept, g_slope2, offset_1, sigma_a_slope1, g_slope1_intercept, g_slope1, offset_0, sigma_a_slope0, g_slope0_intercept, g_slope0, sigma_intercept, offset_intercept, g, g_intercept]\n"
     ]
    },
    {
     "name": "stderr",
     "output_type": "stream",
     "text": [
      "Sampling 4 chains for 2_000 tune and 2_000 draw iterations (8_000 + 8_000 draws total) took 232 seconds.\n",
      "The number of effective samples is smaller than 25% for some parameters.\n",
      "Got error No model on context stack. trying to find log_likelihood in translation.\n",
      "c:\\Users\\sann7383\\Anaconda3\\envs\\pymc_env\\lib\\site-packages\\arviz\\data\\io_pymc3_3x.py:98: FutureWarning: Using `from_pymc3` without the model will be deprecated in a future release. Not using the model will return less accurate and less useful results. Make sure you use the model argument or call from_pymc3 within a model context.\n",
      "  warnings.warn(\n"
     ]
    },
    {
     "name": "stdout",
     "output_type": "stream",
     "text": [
      "finished  7\n"
     ]
    },
    {
     "name": "stderr",
     "output_type": "stream",
     "text": [
      "Auto-assigning NUTS sampler...\n",
      "Initializing NUTS using jitter+adapt_diag...\n",
      "Initializing NUTS using jitter+adapt_diag...\n",
      "Multiprocess sampling (4 chains in 4 jobs)\n",
      "NUTS: [noise, offset_2, sigma_a_slope2, g_slope2_intercept, g_slope2, offset_1, sigma_a_slope1, g_slope1_intercept, g_slope1, offset_0, sigma_a_slope0, g_slope0_intercept, g_slope0, sigma_intercept, offset_intercept, g, g_intercept]\n"
     ]
    },
    {
     "name": "stderr",
     "output_type": "stream",
     "text": [
      "Sampling 4 chains for 2_000 tune and 2_000 draw iterations (8_000 + 8_000 draws total) took 143 seconds.\n",
      "The number of effective samples is smaller than 25% for some parameters.\n",
      "Got error No model on context stack. trying to find log_likelihood in translation.\n",
      "c:\\Users\\sann7383\\Anaconda3\\envs\\pymc_env\\lib\\site-packages\\arviz\\data\\io_pymc3_3x.py:98: FutureWarning: Using `from_pymc3` without the model will be deprecated in a future release. Not using the model will return less accurate and less useful results. Make sure you use the model argument or call from_pymc3 within a model context.\n",
      "  warnings.warn(\n"
     ]
    },
    {
     "name": "stdout",
     "output_type": "stream",
     "text": [
      "finished  8\n"
     ]
    },
    {
     "name": "stderr",
     "output_type": "stream",
     "text": [
      "Auto-assigning NUTS sampler...\n",
      "Initializing NUTS using jitter+adapt_diag...\n",
      "Initializing NUTS using jitter+adapt_diag...\n",
      "Multiprocess sampling (4 chains in 4 jobs)\n",
      "NUTS: [noise, offset_2, sigma_a_slope2, g_slope2_intercept, g_slope2, offset_1, sigma_a_slope1, g_slope1_intercept, g_slope1, offset_0, sigma_a_slope0, g_slope0_intercept, g_slope0, sigma_intercept, offset_intercept, g, g_intercept]\n"
     ]
    },
    {
     "name": "stderr",
     "output_type": "stream",
     "text": [
      "Sampling 4 chains for 2_000 tune and 2_000 draw iterations (8_000 + 8_000 draws total) took 147 seconds.\n",
      "The number of effective samples is smaller than 25% for some parameters.\n",
      "Got error No model on context stack. trying to find log_likelihood in translation.\n",
      "c:\\Users\\sann7383\\Anaconda3\\envs\\pymc_env\\lib\\site-packages\\arviz\\data\\io_pymc3_3x.py:98: FutureWarning: Using `from_pymc3` without the model will be deprecated in a future release. Not using the model will return less accurate and less useful results. Make sure you use the model argument or call from_pymc3 within a model context.\n",
      "  warnings.warn(\n"
     ]
    },
    {
     "name": "stdout",
     "output_type": "stream",
     "text": [
      "finished  9\n"
     ]
    },
    {
     "name": "stderr",
     "output_type": "stream",
     "text": [
      "Auto-assigning NUTS sampler...\n",
      "Initializing NUTS using jitter+adapt_diag...\n",
      "Initializing NUTS using jitter+adapt_diag...\n",
      "Multiprocess sampling (4 chains in 4 jobs)\n",
      "NUTS: [noise, offset_2, sigma_a_slope2, g_slope2_intercept, g_slope2, offset_1, sigma_a_slope1, g_slope1_intercept, g_slope1, offset_0, sigma_a_slope0, g_slope0_intercept, g_slope0, sigma_intercept, offset_intercept, g, g_intercept]\n"
     ]
    },
    {
     "name": "stderr",
     "output_type": "stream",
     "text": [
      "Sampling 4 chains for 2_000 tune and 2_000 draw iterations (8_000 + 8_000 draws total) took 192 seconds.\n",
      "The number of effective samples is smaller than 25% for some parameters.\n",
      "Got error No model on context stack. trying to find log_likelihood in translation.\n",
      "c:\\Users\\sann7383\\Anaconda3\\envs\\pymc_env\\lib\\site-packages\\arviz\\data\\io_pymc3_3x.py:98: FutureWarning: Using `from_pymc3` without the model will be deprecated in a future release. Not using the model will return less accurate and less useful results. Make sure you use the model argument or call from_pymc3 within a model context.\n",
      "  warnings.warn(\n"
     ]
    },
    {
     "name": "stdout",
     "output_type": "stream",
     "text": [
      "finished  10\n"
     ]
    },
    {
     "name": "stderr",
     "output_type": "stream",
     "text": [
      "Auto-assigning NUTS sampler...\n",
      "Initializing NUTS using jitter+adapt_diag...\n",
      "Initializing NUTS using jitter+adapt_diag...\n",
      "Multiprocess sampling (4 chains in 4 jobs)\n",
      "NUTS: [noise, offset_2, sigma_a_slope2, g_slope2_intercept, g_slope2, offset_1, sigma_a_slope1, g_slope1_intercept, g_slope1, offset_0, sigma_a_slope0, g_slope0_intercept, g_slope0, sigma_intercept, offset_intercept, g, g_intercept]\n"
     ]
    },
    {
     "name": "stderr",
     "output_type": "stream",
     "text": [
      "Sampling 4 chains for 2_000 tune and 2_000 draw iterations (8_000 + 8_000 draws total) took 201 seconds.\n",
      "Got error No model on context stack. trying to find log_likelihood in translation.\n",
      "c:\\Users\\sann7383\\Anaconda3\\envs\\pymc_env\\lib\\site-packages\\arviz\\data\\io_pymc3_3x.py:98: FutureWarning: Using `from_pymc3` without the model will be deprecated in a future release. Not using the model will return less accurate and less useful results. Make sure you use the model argument or call from_pymc3 within a model context.\n",
      "  warnings.warn(\n"
     ]
    },
    {
     "name": "stdout",
     "output_type": "stream",
     "text": [
      "finished  11\n"
     ]
    },
    {
     "name": "stderr",
     "output_type": "stream",
     "text": [
      "Auto-assigning NUTS sampler...\n",
      "Initializing NUTS using jitter+adapt_diag...\n",
      "Initializing NUTS using jitter+adapt_diag...\n",
      "Multiprocess sampling (4 chains in 4 jobs)\n",
      "NUTS: [noise, offset_2, sigma_a_slope2, g_slope2_intercept, g_slope2, offset_1, sigma_a_slope1, g_slope1_intercept, g_slope1, offset_0, sigma_a_slope0, g_slope0_intercept, g_slope0, sigma_intercept, offset_intercept, g, g_intercept]\n"
     ]
    },
    {
     "name": "stderr",
     "output_type": "stream",
     "text": [
      "Sampling 4 chains for 2_000 tune and 2_000 draw iterations (8_000 + 8_000 draws total) took 133 seconds.\n",
      "Got error No model on context stack. trying to find log_likelihood in translation.\n",
      "c:\\Users\\sann7383\\Anaconda3\\envs\\pymc_env\\lib\\site-packages\\arviz\\data\\io_pymc3_3x.py:98: FutureWarning: Using `from_pymc3` without the model will be deprecated in a future release. Not using the model will return less accurate and less useful results. Make sure you use the model argument or call from_pymc3 within a model context.\n",
      "  warnings.warn(\n"
     ]
    },
    {
     "name": "stdout",
     "output_type": "stream",
     "text": [
      "finished  12\n"
     ]
    },
    {
     "name": "stderr",
     "output_type": "stream",
     "text": [
      "Auto-assigning NUTS sampler...\n",
      "Initializing NUTS using jitter+adapt_diag...\n",
      "Initializing NUTS using jitter+adapt_diag...\n",
      "Multiprocess sampling (4 chains in 4 jobs)\n",
      "NUTS: [noise, offset_2, sigma_a_slope2, g_slope2_intercept, g_slope2, offset_1, sigma_a_slope1, g_slope1_intercept, g_slope1, offset_0, sigma_a_slope0, g_slope0_intercept, g_slope0, sigma_intercept, offset_intercept, g, g_intercept]\n"
     ]
    },
    {
     "name": "stderr",
     "output_type": "stream",
     "text": [
      "Sampling 4 chains for 2_000 tune and 2_000 draw iterations (8_000 + 8_000 draws total) took 122 seconds.\n",
      "Got error No model on context stack. trying to find log_likelihood in translation.\n",
      "c:\\Users\\sann7383\\Anaconda3\\envs\\pymc_env\\lib\\site-packages\\arviz\\data\\io_pymc3_3x.py:98: FutureWarning: Using `from_pymc3` without the model will be deprecated in a future release. Not using the model will return less accurate and less useful results. Make sure you use the model argument or call from_pymc3 within a model context.\n",
      "  warnings.warn(\n"
     ]
    },
    {
     "name": "stdout",
     "output_type": "stream",
     "text": [
      "finished  13\n"
     ]
    },
    {
     "name": "stderr",
     "output_type": "stream",
     "text": [
      "Auto-assigning NUTS sampler...\n",
      "Initializing NUTS using jitter+adapt_diag...\n",
      "Initializing NUTS using jitter+adapt_diag...\n",
      "Multiprocess sampling (4 chains in 4 jobs)\n",
      "NUTS: [noise, offset_2, sigma_a_slope2, g_slope2_intercept, g_slope2, offset_1, sigma_a_slope1, g_slope1_intercept, g_slope1, offset_0, sigma_a_slope0, g_slope0_intercept, g_slope0, sigma_intercept, offset_intercept, g, g_intercept]\n"
     ]
    },
    {
     "name": "stderr",
     "output_type": "stream",
     "text": [
      "Sampling 4 chains for 2_000 tune and 2_000 draw iterations (8_000 + 8_000 draws total) took 165 seconds.\n",
      "Got error No model on context stack. trying to find log_likelihood in translation.\n",
      "c:\\Users\\sann7383\\Anaconda3\\envs\\pymc_env\\lib\\site-packages\\arviz\\data\\io_pymc3_3x.py:98: FutureWarning: Using `from_pymc3` without the model will be deprecated in a future release. Not using the model will return less accurate and less useful results. Make sure you use the model argument or call from_pymc3 within a model context.\n",
      "  warnings.warn(\n"
     ]
    },
    {
     "name": "stdout",
     "output_type": "stream",
     "text": [
      "finished  14\n"
     ]
    },
    {
     "name": "stderr",
     "output_type": "stream",
     "text": [
      "Auto-assigning NUTS sampler...\n",
      "Initializing NUTS using jitter+adapt_diag...\n",
      "Initializing NUTS using jitter+adapt_diag...\n",
      "Multiprocess sampling (4 chains in 4 jobs)\n",
      "NUTS: [noise, offset_2, sigma_a_slope2, g_slope2_intercept, g_slope2, offset_1, sigma_a_slope1, g_slope1_intercept, g_slope1, offset_0, sigma_a_slope0, g_slope0_intercept, g_slope0, sigma_intercept, offset_intercept, g, g_intercept]\n"
     ]
    },
    {
     "name": "stderr",
     "output_type": "stream",
     "text": [
      "Sampling 4 chains for 2_000 tune and 2_000 draw iterations (8_000 + 8_000 draws total) took 192 seconds.\n",
      "Got error No model on context stack. trying to find log_likelihood in translation.\n",
      "c:\\Users\\sann7383\\Anaconda3\\envs\\pymc_env\\lib\\site-packages\\arviz\\data\\io_pymc3_3x.py:98: FutureWarning: Using `from_pymc3` without the model will be deprecated in a future release. Not using the model will return less accurate and less useful results. Make sure you use the model argument or call from_pymc3 within a model context.\n",
      "  warnings.warn(\n"
     ]
    },
    {
     "name": "stdout",
     "output_type": "stream",
     "text": [
      "finished  15\n"
     ]
    },
    {
     "name": "stderr",
     "output_type": "stream",
     "text": [
      "Auto-assigning NUTS sampler...\n",
      "Initializing NUTS using jitter+adapt_diag...\n",
      "Initializing NUTS using jitter+adapt_diag...\n",
      "Multiprocess sampling (4 chains in 4 jobs)\n",
      "NUTS: [noise, offset_2, sigma_a_slope2, g_slope2_intercept, g_slope2, offset_1, sigma_a_slope1, g_slope1_intercept, g_slope1, offset_0, sigma_a_slope0, g_slope0_intercept, g_slope0, sigma_intercept, offset_intercept, g, g_intercept]\n"
     ]
    },
    {
     "name": "stderr",
     "output_type": "stream",
     "text": [
      "Sampling 4 chains for 2_000 tune and 2_000 draw iterations (8_000 + 8_000 draws total) took 176 seconds.\n",
      "Got error No model on context stack. trying to find log_likelihood in translation.\n",
      "c:\\Users\\sann7383\\Anaconda3\\envs\\pymc_env\\lib\\site-packages\\arviz\\data\\io_pymc3_3x.py:98: FutureWarning: Using `from_pymc3` without the model will be deprecated in a future release. Not using the model will return less accurate and less useful results. Make sure you use the model argument or call from_pymc3 within a model context.\n",
      "  warnings.warn(\n"
     ]
    },
    {
     "name": "stdout",
     "output_type": "stream",
     "text": [
      "finished  16\n"
     ]
    },
    {
     "name": "stderr",
     "output_type": "stream",
     "text": [
      "Auto-assigning NUTS sampler...\n",
      "Initializing NUTS using jitter+adapt_diag...\n",
      "Initializing NUTS using jitter+adapt_diag...\n",
      "Multiprocess sampling (4 chains in 4 jobs)\n",
      "NUTS: [noise, offset_2, sigma_a_slope2, g_slope2_intercept, g_slope2, offset_1, sigma_a_slope1, g_slope1_intercept, g_slope1, offset_0, sigma_a_slope0, g_slope0_intercept, g_slope0, sigma_intercept, offset_intercept, g, g_intercept]\n"
     ]
    },
    {
     "name": "stderr",
     "output_type": "stream",
     "text": [
      "Sampling 4 chains for 2_000 tune and 2_000 draw iterations (8_000 + 8_000 draws total) took 138 seconds.\n",
      "The number of effective samples is smaller than 25% for some parameters.\n",
      "Got error No model on context stack. trying to find log_likelihood in translation.\n",
      "c:\\Users\\sann7383\\Anaconda3\\envs\\pymc_env\\lib\\site-packages\\arviz\\data\\io_pymc3_3x.py:98: FutureWarning: Using `from_pymc3` without the model will be deprecated in a future release. Not using the model will return less accurate and less useful results. Make sure you use the model argument or call from_pymc3 within a model context.\n",
      "  warnings.warn(\n"
     ]
    },
    {
     "name": "stdout",
     "output_type": "stream",
     "text": [
      "finished  17\n"
     ]
    },
    {
     "name": "stderr",
     "output_type": "stream",
     "text": [
      "Auto-assigning NUTS sampler...\n",
      "Initializing NUTS using jitter+adapt_diag...\n",
      "Initializing NUTS using jitter+adapt_diag...\n",
      "Multiprocess sampling (4 chains in 4 jobs)\n",
      "NUTS: [noise, offset_2, sigma_a_slope2, g_slope2_intercept, g_slope2, offset_1, sigma_a_slope1, g_slope1_intercept, g_slope1, offset_0, sigma_a_slope0, g_slope0_intercept, g_slope0, sigma_intercept, offset_intercept, g, g_intercept]\n"
     ]
    },
    {
     "name": "stderr",
     "output_type": "stream",
     "text": [
      "Sampling 4 chains for 2_000 tune and 2_000 draw iterations (8_000 + 8_000 draws total) took 143 seconds.\n",
      "There was 1 divergence after tuning. Increase `target_accept` or reparameterize.\n",
      "The number of effective samples is smaller than 25% for some parameters.\n",
      "Got error No model on context stack. trying to find log_likelihood in translation.\n",
      "c:\\Users\\sann7383\\Anaconda3\\envs\\pymc_env\\lib\\site-packages\\arviz\\data\\io_pymc3_3x.py:98: FutureWarning: Using `from_pymc3` without the model will be deprecated in a future release. Not using the model will return less accurate and less useful results. Make sure you use the model argument or call from_pymc3 within a model context.\n",
      "  warnings.warn(\n"
     ]
    },
    {
     "name": "stdout",
     "output_type": "stream",
     "text": [
      "finished  18\n"
     ]
    },
    {
     "name": "stderr",
     "output_type": "stream",
     "text": [
      "Auto-assigning NUTS sampler...\n",
      "Initializing NUTS using jitter+adapt_diag...\n",
      "Initializing NUTS using jitter+adapt_diag...\n",
      "Multiprocess sampling (4 chains in 4 jobs)\n",
      "NUTS: [noise, offset_2, sigma_a_slope2, g_slope2_intercept, g_slope2, offset_1, sigma_a_slope1, g_slope1_intercept, g_slope1, offset_0, sigma_a_slope0, g_slope0_intercept, g_slope0, sigma_intercept, offset_intercept, g, g_intercept]\n"
     ]
    },
    {
     "name": "stderr",
     "output_type": "stream",
     "text": [
      "Sampling 4 chains for 2_000 tune and 2_000 draw iterations (8_000 + 8_000 draws total) took 118 seconds.\n",
      "Got error No model on context stack. trying to find log_likelihood in translation.\n",
      "c:\\Users\\sann7383\\Anaconda3\\envs\\pymc_env\\lib\\site-packages\\arviz\\data\\io_pymc3_3x.py:98: FutureWarning: Using `from_pymc3` without the model will be deprecated in a future release. Not using the model will return less accurate and less useful results. Make sure you use the model argument or call from_pymc3 within a model context.\n",
      "  warnings.warn(\n"
     ]
    },
    {
     "name": "stdout",
     "output_type": "stream",
     "text": [
      "finished  19\n"
     ]
    }
   ],
   "source": [
    "from arviz import plot_posterior\n",
    "from sklearn.preprocessing import StandardScaler\n",
    "from sklearn.model_selection import RepeatedStratifiedKFold\n",
    "from sklearn.model_selection import StratifiedShuffleSplit\n",
    "selected_names = ['g','x1','x2','x5']\n",
    "individual_names = ['x1','x2','x5']\n",
    "iter_times = 4\n",
    "# sss = StratifiedShuffleSplit(n_splits=iter_times, test_size=0.2, random_state=123)\n",
    "sss = RepeatedStratifiedKFold(n_splits=5, n_repeats=iter_times, random_state=RANDOM_SEED)\n",
    "sss.get_n_splits()\n",
    "\n",
    "rmse_hbm = list()\n",
    "mpe_hbm= list()\n",
    "\n",
    "ind = 0\n",
    "for train_index, test_index in sss.split(data_df, data_df.group.values):\n",
    "    curr_rmse_hbm, curr_mpe_hbm, curr_waic_hbm, pred_hbm, posterior_hbm = hbm_vary_intercepts_slopes_model(train_index, test_index, data_df, selected_names, individual_names)\n",
    "    rmse_hbm.append(curr_rmse_hbm)\n",
    "    mpe_hbm.append(curr_mpe_hbm)\n",
    "    print('finished ', ind)\n",
    "    ind = ind + 1"
   ]
  },
  {
   "cell_type": "code",
   "execution_count": 68,
   "metadata": {},
   "outputs": [
    {
     "data": {
      "text/plain": [
       "3.2989227579981653"
      ]
     },
     "metadata": {},
     "output_type": "display_data"
    },
    {
     "data": {
      "text/plain": [
       "0.09224997432174181"
      ]
     },
     "metadata": {},
     "output_type": "display_data"
    }
   ],
   "source": [
    "display(np.mean(rmse_hbm))\n",
    "display(np.mean(mpe_hbm))"
   ]
  },
  {
   "cell_type": "code",
   "execution_count": 81,
   "metadata": {},
   "outputs": [
    {
     "name": "stderr",
     "output_type": "stream",
     "text": [
      "c:\\Users\\sann7383\\Anaconda3\\envs\\pymc_env\\lib\\site-packages\\numpy\\core\\fromnumeric.py:3440: RuntimeWarning: Mean of empty slice.\n",
      "  return _methods._mean(a, axis=axis, dtype=dtype,\n",
      "c:\\Users\\sann7383\\Anaconda3\\envs\\pymc_env\\lib\\site-packages\\numpy\\core\\_methods.py:189: RuntimeWarning: invalid value encountered in double_scalars\n",
      "  ret = ret.dtype.type(ret / rcount)\n"
     ]
    },
    {
     "data": {
      "image/png": "[encoded data removed]",
      "text/plain": [
       "<Figure size 576x576 with 1 Axes>"
      ]
     },
     "metadata": {},
     "output_type": "display_data"
    }
   ],
   "source": [
    "fig = plt.figure(figsize=(8,8))\n",
    "L = len(rmse_hbm)\n",
    "rmse_mean_hbm = np.zeros((L,1))\n",
    "rmse_mean_base = np.zeros((L,1))\n",
    "mpe_mean_hbm = np.zeros((L,1))\n",
    "mpe_mean_base = np.zeros((L,1))\n",
    "\n",
    "for i in range(L):\n",
    "    rmse_mean_hbm[i] = np.mean(rmse_hbm[:i])\n",
    "    rmse_mean_base[i] = np.mean(rmse_ridge_list[:i])\n",
    "    mpe_mean_hbm[i] = np.mean(mpe_hbm[:i])\n",
    "    mpe_mean_base[i] = np.mean(mpe_ridge_list[:i])\n",
    "\n",
    "plt.plot(np.arange(L), rmse_mean_base, 'g', label='base')\n",
    "plt.plot(np.arange(L), rmse_mean_hbm, 'r', label='hbm')\n",
    "\n",
    "\n",
    "plt.xlabel('Iteration times',fontsize=14)\n",
    "plt.xticks(fontsize = 12)\n",
    "# plt.xlim(-1,51)\n",
    "# plt.ylim(3.1,4.7)\n",
    "plt.ylabel('Average RMSE (days)', fontsize=14)\n",
    "plt.yticks(fontsize = 12)\n",
    "plt.legend(fontsize=14)\n",
    "plt.show()"
   ]
  },
  {
   "cell_type": "code",
   "execution_count": 82,
   "metadata": {},
   "outputs": [
    {
     "data": {
      "image/png": "[encoded data removed]",
      "text/plain": [
       "<Figure size 432x432 with 4 Axes>"
      ]
     },
     "metadata": {},
     "output_type": "display_data"
    }
   ],
   "source": [
    "fig, axs=plt.subplots(2,2,figsize=(6,6))\n",
    "# axs[1].grid(None)\n",
    "bins_rmse = np.linspace(2, 6, 16)\n",
    "axs[0,0].hist(rmse_hbm, bins = bins_rmse, alpha=0.7, color='b', label='HBM')\n",
    "axs[0,0].hist(rmse_ridge_list, bins= bins_rmse, alpha=0.7, color='g', label='Baseline')\n",
    "axs[0,0].set_xticks([2,3,4,5,6])\n",
    "axs[0,0].set_xlabel('RMSE (days)')\n",
    "axs[0,0].set_ylabel('Frequency')\n",
    "\n",
    "axs[0,0].legend(fontsize=9)\n",
    "\n",
    "bins_mpe = np.linspace(6, 16, 16)\n",
    "axs[0,1].hist(100*np.array(mpe_hbm), bins=bins_mpe, alpha=0.7,color='b')\n",
    "axs[0,1].hist(100*mpe_ridge_list, bins=bins_mpe, alpha=0.7,color='g')\n",
    "axs[0,1].set_xticks([6,8,10,12,14,16])\n",
    "axs[0,1].set_xlabel('MAPE (%)')\n",
    "axs[0,1].set_ylabel('Frequency')\n",
    "\n",
    "\n",
    "axs[1,0].plot(np.arange(L), rmse_mean_hbm, 'b', label='HBM')\n",
    "axs[1,0].plot(np.arange(L), rmse_mean_base, 'g', label='Baseline')\n",
    "axs[1,0].set_xticks([0,5,10,15,20])\n",
    "axs[1,0].set_xlabel('Iteration')\n",
    "axs[1,0].set_ylabel('RMSE (days)')\n",
    "axs[1,0].legend(fontsize=9)\n",
    "\n",
    "axs[1,1].plot(np.arange(L), 100*np.array(mpe_mean_hbm), 'b', label='HBM')\n",
    "axs[1,1].plot(np.arange(L), 100*np.array(mpe_mean_base), 'g', label='Baseline')\n",
    "axs[1,1].set_xticks([0,5,10,15,20])\n",
    "axs[1,1].set_xlabel('Iteration')\n",
    "axs[1,1].set_ylabel('MAPE (%)')\n",
    "\n",
    "plt.tight_layout()"
   ]
  }
 ],
 "metadata": {
  "kernelspec": {
   "display_name": "pymc_env",
   "language": "python",
   "name": "python3"
  },
  "language_info": {
   "codemirror_mode": {
    "name": "ipython",
    "version": 3
   },
   "file_extension": ".py",
   "mimetype": "text/x-python",
   "name": "python",
   "nbconvert_exporter": "python",
   "pygments_lexer": "ipython3",
   "version": "3.10.4"
  },
  "orig_nbformat": 4,
  "vscode": {
   "interpreter": {
    "hash": "df702a5dd18bd0d968f05f8b93f0eeb6e506bdaba604bb2c707845ef14e751c5"
   }
  }
 },
 "nbformat": 4,
 "nbformat_minor": 2
}
